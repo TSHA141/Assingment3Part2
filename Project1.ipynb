{
  "metadata": {
    "kernelspec": {
      "name": "python",
      "display_name": "Python (Pyodide)",
      "language": "python"
    },
    "language_info": {
      "codemirror_mode": {
        "name": "python",
        "version": 3
      },
      "file_extension": ".py",
      "mimetype": "text/x-python",
      "name": "python",
      "nbconvert_exporter": "python",
      "pygments_lexer": "ipython3",
      "version": "3.8"
    }
  },
  "nbformat_minor": 4,
  "nbformat": 4,
  "cells": [
    {
      "cell_type": "markdown",
      "source": "Importing the necessary libraries\n",
      "metadata": {}
    },
    {
      "cell_type": "code",
      "source": "import pandas as pd",
      "metadata": {
        "trusted": true
      },
      "outputs": [],
      "execution_count": 1
    },
    {
      "cell_type": "markdown",
      "source": "Load the dataset\n",
      "metadata": {}
    },
    {
      "cell_type": "code",
      "source": "file_path = r'C:\\Users\\mfundo\\Desktop\\Project1\\Housing.csv'\nhousing_data = pd.read_csv(file_path)",
      "metadata": {
        "trusted": true
      },
      "outputs": [],
      "execution_count": null
    },
    {
      "cell_type": "markdown",
      "source": "Display the first few rows of thee dataset",
      "metadata": {}
    },
    {
      "cell_type": "code",
      "source": "print(\"First few rows of the dataset:\\n\", housing_data.head())",
      "metadata": {
        "trusted": true,
        "scrolled": true
      },
      "outputs": [],
      "execution_count": null
    },
    {
      "cell_type": "markdown",
      "source": "Check the shape of the dataset",
      "metadata": {}
    },
    {
      "cell_type": "code",
      "source": "print(\"Shape of the dataset:\", housing_data.shape)",
      "metadata": {
        "trusted": true
      },
      "outputs": [],
      "execution_count": null
    },
    {
      "cell_type": "markdown",
      "source": "Check the data types and missing values",
      "metadata": {}
    },
    {
      "cell_type": "code",
      "source": "print(\"Data types and missing values:\\n\", housing_data.info())\n",
      "metadata": {
        "trusted": true
      },
      "outputs": [],
      "execution_count": null
    },
    {
      "cell_type": "markdown",
      "source": "Summary statistics",
      "metadata": {}
    },
    {
      "cell_type": "code",
      "source": "print(\"Summary statistics:\\n\", housing_data.describe())",
      "metadata": {
        "trusted": true
      },
      "outputs": [],
      "execution_count": null
    },
    {
      "cell_type": "markdown",
      "source": "Perform one-hot encoding for categorical variable",
      "metadata": {}
    },
    {
      "cell_type": "code",
      "source": "housing_data_encoded = pd.get_dummies(housing_data, columns=[\"Weather connected to Main Road\", \"Weather has a guest room\", \"Weather has a basement\", \"Weather has a geyser\", \"Weather has an air conditioner\"])\n\n#Display  the first few rows of the encoded dataset\nprint(\"First few rows of the encoded dataset:\\n\", housing_data_encoded.head())",
      "metadata": {
        "trusted": true
      },
      "outputs": [],
      "execution_count": null
    },
    {
      "cell_type": "markdown",
      "source": "Now we will split the dataset into features(independent and dependent variables)",
      "metadata": {}
    },
    {
      "cell_type": "code",
      "source": "#Separate features (x) and target variable(y)\nX = housing_data_encoded.drop(clumns=[\"Price of the Houses\"])\ny = housing_data_encoded[\"Prices of the Houses\"]\n\n#Split the data into training and testing and testing sets (80% train, 20% test)\nfrom sklearn.model_selection import train_test_split\nX_train, X_test, y_train, y_test = train_test_split(X, y, test_size=0.2, random_state=42)\n\n#check the shapes of the training and testing sets\nprint(\"Shape of the X_train:\", X_train.shape)\nprint(\"Shape of the X_test:\", X_test.shape)\nprint(\"Shape of the y_train:\", y_train.shape)\nprint(\"Shape of the y_test:\", y_test.shape)",
      "metadata": {
        "trusted": true
      },
      "outputs": [],
      "execution_count": null
    },
    {
      "cell_type": "markdown",
      "source": "Now we need to train our linear regression model",
      "metadata": {}
    },
    {
      "cell_type": "markdown",
      "source": "Import Linear Regression class from scikit-learn",
      "metadata": {}
    },
    {
      "cell_type": "code",
      "source": "from sklearn.linear_model import LinearRegression\n\n#Initialize the linear regression model\nmodel = LinearRegression()\n\n#Train the model on the training data\nmodel.fit(X_train, y_train)\n\n#Once the model is trained, we can make predictions on the testing data\ny_pred = model.predict(X_test)",
      "metadata": {
        "trusted": true
      },
      "outputs": [],
      "execution_count": null
    },
    {
      "cell_type": "markdown",
      "source": "Let us evaluate the perormance of our model\n",
      "metadata": {}
    },
    {
      "cell_type": "code",
      "source": "from sklearn.metrics import mean_squared_error, r2_score\nimport numpy as np\n\n#Calculate mean squared error\nmse = mean_squared_error(y_test,y_pred)\n\n#Calculate R-squared\nr2 = r2_score(y_test,y_pred)\n\nprint(\"Mean Squared Error (MSE):\", mse)\nprint(\"Root Mean Squared Error (RMSE):\", rmse)\nprint(\"R-squared:\", r2)\n\n#These values will help us better understand how well our linear regression model is performing on the tessting data.\n#Lower values of MSE and RMSE indicate better performance, while R-squared closer to 1 indicates a better fit of the model to the data.\n",
      "metadata": {
        "trusted": true
      },
      "outputs": [],
      "execution_count": null
    }
  ]
}